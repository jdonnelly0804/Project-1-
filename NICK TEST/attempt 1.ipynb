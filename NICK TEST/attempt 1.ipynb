{
 "cells": [
  {
   "cell_type": "code",
   "execution_count": 1,
   "metadata": {},
   "outputs": [],
   "source": [
    "import pandas as pd \n",
    "from pathlib import Path"
   ]
  },
  {
   "cell_type": "code",
   "execution_count": 2,
   "metadata": {},
   "outputs": [
    {
     "data": {
      "text/html": [
       "<div>\n",
       "<style scoped>\n",
       "    .dataframe tbody tr th:only-of-type {\n",
       "        vertical-align: middle;\n",
       "    }\n",
       "\n",
       "    .dataframe tbody tr th {\n",
       "        vertical-align: top;\n",
       "    }\n",
       "\n",
       "    .dataframe thead th {\n",
       "        text-align: right;\n",
       "    }\n",
       "</style>\n",
       "<table border=\"1\" class=\"dataframe\">\n",
       "  <thead>\n",
       "    <tr style=\"text-align: right;\">\n",
       "      <th></th>\n",
       "      <th>Close</th>\n",
       "    </tr>\n",
       "    <tr>\n",
       "      <th>Date</th>\n",
       "      <th></th>\n",
       "    </tr>\n",
       "  </thead>\n",
       "  <tbody>\n",
       "    <tr>\n",
       "      <th>1972-01-03</th>\n",
       "      <td>101.67</td>\n",
       "    </tr>\n",
       "    <tr>\n",
       "      <th>1972-01-04</th>\n",
       "      <td>102.09</td>\n",
       "    </tr>\n",
       "    <tr>\n",
       "      <th>1972-01-05</th>\n",
       "      <td>103.06</td>\n",
       "    </tr>\n",
       "    <tr>\n",
       "      <th>1972-01-06</th>\n",
       "      <td>103.51</td>\n",
       "    </tr>\n",
       "    <tr>\n",
       "      <th>1972-01-07</th>\n",
       "      <td>103.47</td>\n",
       "    </tr>\n",
       "    <tr>\n",
       "      <th>...</th>\n",
       "      <td>...</td>\n",
       "    </tr>\n",
       "    <tr>\n",
       "      <th>1973-12-27</th>\n",
       "      <td>97.74</td>\n",
       "    </tr>\n",
       "    <tr>\n",
       "      <th>1973-12-28</th>\n",
       "      <td>97.54</td>\n",
       "    </tr>\n",
       "    <tr>\n",
       "      <th>1973-12-31</th>\n",
       "      <td>97.55</td>\n",
       "    </tr>\n",
       "    <tr>\n",
       "      <th>1974-01-02</th>\n",
       "      <td>97.68</td>\n",
       "    </tr>\n",
       "    <tr>\n",
       "      <th>1974-01-03</th>\n",
       "      <td>99.80</td>\n",
       "    </tr>\n",
       "  </tbody>\n",
       "</table>\n",
       "<p>505 rows × 1 columns</p>\n",
       "</div>"
      ],
      "text/plain": [
       "             Close\n",
       "Date              \n",
       "1972-01-03  101.67\n",
       "1972-01-04  102.09\n",
       "1972-01-05  103.06\n",
       "1972-01-06  103.51\n",
       "1972-01-07  103.47\n",
       "...            ...\n",
       "1973-12-27   97.74\n",
       "1973-12-28   97.54\n",
       "1973-12-31   97.55\n",
       "1974-01-02   97.68\n",
       "1974-01-03   99.80\n",
       "\n",
       "[505 rows x 1 columns]"
      ]
     },
     "execution_count": 2,
     "metadata": {},
     "output_type": "execute_result"
    }
   ],
   "source": [
    "#SNP 500 Historical dataframe --> sp500_df\n",
    "sp500_df = pd.read_csv(Path(\"../ResourceS/SPX 500 1972 --_ Present - Sheet1.csv\"),\n",
    " infer_datetime_format= True, parse_dates=True)\n",
    "sp500_df['Date'] = pd.to_datetime(sp500_df['Date']).dt.date\n",
    "sp500_df = sp500_df.set_index('Date')\n",
    "sp500_df = sp500_df.dropna()\n",
    "#Because pd.to.datetime had to be used to get rid of the timestamps next to the date:\n",
    "#when using .loc --> you must set startdate and end date like so:\n",
    "startdate= pd.to_datetime('1972-01-03').date()\n",
    "enddate = pd.to_datetime('1974-01-03').date()\n",
    "\n",
    "#and then certain timeframes can be located with this code:\n",
    "sp500_df_2yr = sp500_df.loc[startdate:enddate]\n",
    "sp500_df_2yr\n"
   ]
  },
  {
   "cell_type": "code",
   "execution_count": 3,
   "metadata": {},
   "outputs": [
    {
     "data": {
      "text/html": [
       "<div>\n",
       "<style scoped>\n",
       "    .dataframe tbody tr th:only-of-type {\n",
       "        vertical-align: middle;\n",
       "    }\n",
       "\n",
       "    .dataframe tbody tr th {\n",
       "        vertical-align: top;\n",
       "    }\n",
       "\n",
       "    .dataframe thead th {\n",
       "        text-align: right;\n",
       "    }\n",
       "</style>\n",
       "<table border=\"1\" class=\"dataframe\">\n",
       "  <thead>\n",
       "    <tr style=\"text-align: right;\">\n",
       "      <th></th>\n",
       "      <th>yield</th>\n",
       "    </tr>\n",
       "    <tr>\n",
       "      <th>DATE</th>\n",
       "      <th></th>\n",
       "    </tr>\n",
       "  </thead>\n",
       "  <tbody>\n",
       "    <tr>\n",
       "      <th>1962-01-02</th>\n",
       "      <td>4.06</td>\n",
       "    </tr>\n",
       "    <tr>\n",
       "      <th>1962-01-03</th>\n",
       "      <td>4.03</td>\n",
       "    </tr>\n",
       "    <tr>\n",
       "      <th>1962-01-04</th>\n",
       "      <td>3.99</td>\n",
       "    </tr>\n",
       "    <tr>\n",
       "      <th>1962-01-05</th>\n",
       "      <td>4.02</td>\n",
       "    </tr>\n",
       "    <tr>\n",
       "      <th>1962-01-08</th>\n",
       "      <td>4.03</td>\n",
       "    </tr>\n",
       "    <tr>\n",
       "      <th>...</th>\n",
       "      <td>...</td>\n",
       "    </tr>\n",
       "    <tr>\n",
       "      <th>2022-10-21</th>\n",
       "      <td>4.21</td>\n",
       "    </tr>\n",
       "    <tr>\n",
       "      <th>2022-10-24</th>\n",
       "      <td>4.25</td>\n",
       "    </tr>\n",
       "    <tr>\n",
       "      <th>2022-10-25</th>\n",
       "      <td>4.10</td>\n",
       "    </tr>\n",
       "    <tr>\n",
       "      <th>2022-10-26</th>\n",
       "      <td>4.04</td>\n",
       "    </tr>\n",
       "    <tr>\n",
       "      <th>2022-10-27</th>\n",
       "      <td>3.96</td>\n",
       "    </tr>\n",
       "  </tbody>\n",
       "</table>\n",
       "<p>15868 rows × 1 columns</p>\n",
       "</div>"
      ],
      "text/plain": [
       "           yield\n",
       "DATE            \n",
       "1962-01-02  4.06\n",
       "1962-01-03  4.03\n",
       "1962-01-04  3.99\n",
       "1962-01-05  4.02\n",
       "1962-01-08  4.03\n",
       "...          ...\n",
       "2022-10-21  4.21\n",
       "2022-10-24  4.25\n",
       "2022-10-25  4.10\n",
       "2022-10-26  4.04\n",
       "2022-10-27  3.96\n",
       "\n",
       "[15868 rows x 1 columns]"
      ]
     },
     "execution_count": 3,
     "metadata": {},
     "output_type": "execute_result"
    }
   ],
   "source": [
    "#Now importing our 10yr yield data (ST Louis Fed):\n",
    "ten_yr_yield_df = pd.read_csv(Path(\"../Resources/DGS10 (1).csv\"), infer_datetime_format=True, index_col='DATE')\n",
    "ten_yr_yield_df = ten_yr_yield_df.rename(columns={'DGS10':'yield'})\n",
    "\n",
    "\n",
    "#You can use normal loc on this dataset since there was no timestamp to be removed:\n",
    "ten_yr_yield_df.loc['1962-01-02' :'1962-01-04']\n",
    "ten_yr_yield_df = ten_yr_yield_df.dropna()\n",
    "ten_yr_yield_df"
   ]
  },
  {
   "cell_type": "code",
   "execution_count": 4,
   "metadata": {},
   "outputs": [],
   "source": [
    "#Now for our crypto data (BTC + ETH): --> Will have to use startdate/enddate like the SNP dataframe to locate dates\n",
    "import alpaca_trade_api as tradeapi\n",
    "import os \n",
    "from dotenv import load_dotenv\n",
    "load_dotenv()\n",
    "from alpaca.data.historical import CryptoHistoricalDataClient\n",
    "from alpaca_trade_api.rest import REST, TimeFrame\n",
    "\n",
    "#keys:\n",
    "alpaca_api_key = os.getenv(\"ALPACA_API_KEY\")\n",
    "alpaca_secret_key = os.getenv(\"ALPACA_SECRET_KEY\")\n"
   ]
  },
  {
   "cell_type": "code",
   "execution_count": 5,
   "metadata": {},
   "outputs": [
    {
     "data": {
      "text/html": [
       "<div>\n",
       "<style scoped>\n",
       "    .dataframe tbody tr th:only-of-type {\n",
       "        vertical-align: middle;\n",
       "    }\n",
       "\n",
       "    .dataframe tbody tr th {\n",
       "        vertical-align: top;\n",
       "    }\n",
       "\n",
       "    .dataframe thead th {\n",
       "        text-align: right;\n",
       "    }\n",
       "</style>\n",
       "<table border=\"1\" class=\"dataframe\">\n",
       "  <thead>\n",
       "    <tr style=\"text-align: right;\">\n",
       "      <th></th>\n",
       "      <th>close</th>\n",
       "    </tr>\n",
       "    <tr>\n",
       "      <th>timestamp</th>\n",
       "      <th></th>\n",
       "    </tr>\n",
       "  </thead>\n",
       "  <tbody>\n",
       "    <tr>\n",
       "      <th>2016-01-01</th>\n",
       "      <td>435.66</td>\n",
       "    </tr>\n",
       "    <tr>\n",
       "      <th>2016-01-02</th>\n",
       "      <td>435.40</td>\n",
       "    </tr>\n",
       "    <tr>\n",
       "      <th>2016-01-03</th>\n",
       "      <td>431.91</td>\n",
       "    </tr>\n",
       "    <tr>\n",
       "      <th>2016-01-04</th>\n",
       "      <td>433.78</td>\n",
       "    </tr>\n",
       "    <tr>\n",
       "      <th>2016-01-05</th>\n",
       "      <td>431.31</td>\n",
       "    </tr>\n",
       "    <tr>\n",
       "      <th>...</th>\n",
       "      <td>...</td>\n",
       "    </tr>\n",
       "    <tr>\n",
       "      <th>2022-10-19</th>\n",
       "      <td>19192.00</td>\n",
       "    </tr>\n",
       "    <tr>\n",
       "      <th>2022-10-19</th>\n",
       "      <td>19178.00</td>\n",
       "    </tr>\n",
       "    <tr>\n",
       "      <th>2022-10-20</th>\n",
       "      <td>19047.32</td>\n",
       "    </tr>\n",
       "    <tr>\n",
       "      <th>2022-10-20</th>\n",
       "      <td>19039.20</td>\n",
       "    </tr>\n",
       "    <tr>\n",
       "      <th>2022-10-20</th>\n",
       "      <td>19043.00</td>\n",
       "    </tr>\n",
       "  </tbody>\n",
       "</table>\n",
       "<p>3784 rows × 1 columns</p>\n",
       "</div>"
      ],
      "text/plain": [
       "               close\n",
       "timestamp           \n",
       "2016-01-01    435.66\n",
       "2016-01-02    435.40\n",
       "2016-01-03    431.91\n",
       "2016-01-04    433.78\n",
       "2016-01-05    431.31\n",
       "...              ...\n",
       "2022-10-19  19192.00\n",
       "2022-10-19  19178.00\n",
       "2022-10-20  19047.32\n",
       "2022-10-20  19039.20\n",
       "2022-10-20  19043.00\n",
       "\n",
       "[3784 rows x 1 columns]"
      ]
     },
     "execution_count": 5,
     "metadata": {},
     "output_type": "execute_result"
    }
   ],
   "source": [
    "#BTC DF: 2016 --> present\n",
    "\n",
    "#create api variable\n",
    "alpaca_api = REST(alpaca_api_key, alpaca_secret_key, \"https://paper-api.alpaca.markets\")\n",
    "\n",
    "#get btc df\n",
    "btc_df = alpaca_api.get_crypto_bars(\n",
    "    'BTCUSD',\n",
    "    TimeFrame.Day,\n",
    "    '2016-01-01',\n",
    "    '2022-10-20'\n",
    ").df\n",
    "\n",
    "#drop columns, reset index\n",
    "btc_df = btc_df.drop(columns=['exchange','open','high','low','volume','trade_count','vwap'])\n",
    "btc_df = btc_df.reset_index()\n",
    "\n",
    "#removing timestamp and setting index back to date\n",
    "btc_df['timestamp'] = pd.to_datetime(btc_df['timestamp']).dt.date\n",
    "btc_df = btc_df.set_index('timestamp')\n",
    "btc_df = btc_df.dropna()\n",
    "btc_df"
   ]
  },
  {
   "cell_type": "markdown",
   "metadata": {},
   "source": [
    "startdate_btc_1= pd.to_datetime('2017-12-16').date()\n",
    "enddate_btc_1 = pd.to_datetime('2018-12-18').date()\n",
    "btc_first_bear = btc_df.loc[startdate_btc_1:enddate_btc_1]\n",
    "btc_first_bear\n",
    "startdate_btc_2= pd.to_datetime('2021-11-12').date()\n",
    "enddate_btc_2 = pd.to_datetime('2022-09-21').date()\n",
    "btc_second_bear = btc_df.loc[startdate_btc_2:enddate_btc_2]\n",
    "btc_second_bear"
   ]
  },
  {
   "cell_type": "code",
   "execution_count": 6,
   "metadata": {},
   "outputs": [
    {
     "data": {
      "text/html": [
       "<div>\n",
       "<style scoped>\n",
       "    .dataframe tbody tr th:only-of-type {\n",
       "        vertical-align: middle;\n",
       "    }\n",
       "\n",
       "    .dataframe tbody tr th {\n",
       "        vertical-align: top;\n",
       "    }\n",
       "\n",
       "    .dataframe thead th {\n",
       "        text-align: right;\n",
       "    }\n",
       "</style>\n",
       "<table border=\"1\" class=\"dataframe\">\n",
       "  <thead>\n",
       "    <tr style=\"text-align: right;\">\n",
       "      <th></th>\n",
       "      <th>close</th>\n",
       "    </tr>\n",
       "    <tr>\n",
       "      <th>timestamp</th>\n",
       "      <th></th>\n",
       "    </tr>\n",
       "  </thead>\n",
       "  <tbody>\n",
       "    <tr>\n",
       "      <th>2016-05-17</th>\n",
       "      <td>14.00</td>\n",
       "    </tr>\n",
       "    <tr>\n",
       "      <th>2016-05-18</th>\n",
       "      <td>13.18</td>\n",
       "    </tr>\n",
       "    <tr>\n",
       "      <th>2016-05-19</th>\n",
       "      <td>14.82</td>\n",
       "    </tr>\n",
       "    <tr>\n",
       "      <th>2016-05-20</th>\n",
       "      <td>14.17</td>\n",
       "    </tr>\n",
       "    <tr>\n",
       "      <th>2016-05-23</th>\n",
       "      <td>13.74</td>\n",
       "    </tr>\n",
       "    <tr>\n",
       "      <th>...</th>\n",
       "      <td>...</td>\n",
       "    </tr>\n",
       "    <tr>\n",
       "      <th>2022-10-19</th>\n",
       "      <td>1290.43</td>\n",
       "    </tr>\n",
       "    <tr>\n",
       "      <th>2022-10-19</th>\n",
       "      <td>1290.90</td>\n",
       "    </tr>\n",
       "    <tr>\n",
       "      <th>2022-10-20</th>\n",
       "      <td>1288.05</td>\n",
       "    </tr>\n",
       "    <tr>\n",
       "      <th>2022-10-20</th>\n",
       "      <td>1286.71</td>\n",
       "    </tr>\n",
       "    <tr>\n",
       "      <th>2022-10-20</th>\n",
       "      <td>1288.40</td>\n",
       "    </tr>\n",
       "  </tbody>\n",
       "</table>\n",
       "<p>3629 rows × 1 columns</p>\n",
       "</div>"
      ],
      "text/plain": [
       "              close\n",
       "timestamp          \n",
       "2016-05-17    14.00\n",
       "2016-05-18    13.18\n",
       "2016-05-19    14.82\n",
       "2016-05-20    14.17\n",
       "2016-05-23    13.74\n",
       "...             ...\n",
       "2022-10-19  1290.43\n",
       "2022-10-19  1290.90\n",
       "2022-10-20  1288.05\n",
       "2022-10-20  1286.71\n",
       "2022-10-20  1288.40\n",
       "\n",
       "[3629 rows x 1 columns]"
      ]
     },
     "execution_count": 6,
     "metadata": {},
     "output_type": "execute_result"
    }
   ],
   "source": [
    "#ETH DF: 2016 --> present\n",
    "\n",
    "#get eth df\n",
    "eth_df = alpaca_api.get_crypto_bars(\n",
    "    'ETHUSD',\n",
    "    TimeFrame.Day,\n",
    "    '2016-01-01',\n",
    "    '2022-10-20'\n",
    ").df\n",
    "\n",
    "#drop columns, reset index\n",
    "eth_df = eth_df.drop(columns=['exchange','open','high','low','volume','trade_count','vwap'])\n",
    "eth_df = eth_df.reset_index()\n",
    "\n",
    "#removing timestamp and setting index back to date\n",
    "eth_df['timestamp'] = pd.to_datetime(eth_df['timestamp']).dt.date\n",
    "eth_df = eth_df.set_index('timestamp')\n",
    "eth_df = eth_df.dropna()\n",
    "eth_df"
   ]
  },
  {
   "cell_type": "code",
   "execution_count": 7,
   "metadata": {},
   "outputs": [
    {
     "data": {
      "text/html": [
       "<div>\n",
       "<style scoped>\n",
       "    .dataframe tbody tr th:only-of-type {\n",
       "        vertical-align: middle;\n",
       "    }\n",
       "\n",
       "    .dataframe tbody tr th {\n",
       "        vertical-align: top;\n",
       "    }\n",
       "\n",
       "    .dataframe thead th {\n",
       "        text-align: right;\n",
       "    }\n",
       "</style>\n",
       "<table border=\"1\" class=\"dataframe\">\n",
       "  <thead>\n",
       "    <tr style=\"text-align: right;\">\n",
       "      <th></th>\n",
       "      <th>close</th>\n",
       "    </tr>\n",
       "    <tr>\n",
       "      <th>timestamp</th>\n",
       "      <th></th>\n",
       "    </tr>\n",
       "  </thead>\n",
       "  <tbody>\n",
       "    <tr>\n",
       "      <th>2021-11-12</th>\n",
       "      <td>63618.26</td>\n",
       "    </tr>\n",
       "    <tr>\n",
       "      <th>2021-11-12</th>\n",
       "      <td>63643.70</td>\n",
       "    </tr>\n",
       "    <tr>\n",
       "      <th>2021-11-12</th>\n",
       "      <td>63650.00</td>\n",
       "    </tr>\n",
       "    <tr>\n",
       "      <th>2021-11-13</th>\n",
       "      <td>64913.73</td>\n",
       "    </tr>\n",
       "    <tr>\n",
       "      <th>2021-11-13</th>\n",
       "      <td>64584.90</td>\n",
       "    </tr>\n",
       "    <tr>\n",
       "      <th>...</th>\n",
       "      <td>...</td>\n",
       "    </tr>\n",
       "    <tr>\n",
       "      <th>2022-09-20</th>\n",
       "      <td>18996.90</td>\n",
       "    </tr>\n",
       "    <tr>\n",
       "      <th>2022-09-20</th>\n",
       "      <td>18990.00</td>\n",
       "    </tr>\n",
       "    <tr>\n",
       "      <th>2022-09-21</th>\n",
       "      <td>18705.98</td>\n",
       "    </tr>\n",
       "    <tr>\n",
       "      <th>2022-09-21</th>\n",
       "      <td>18705.90</td>\n",
       "    </tr>\n",
       "    <tr>\n",
       "      <th>2022-09-21</th>\n",
       "      <td>18704.00</td>\n",
       "    </tr>\n",
       "  </tbody>\n",
       "</table>\n",
       "<p>942 rows × 1 columns</p>\n",
       "</div>"
      ],
      "text/plain": [
       "               close\n",
       "timestamp           \n",
       "2021-11-12  63618.26\n",
       "2021-11-12  63643.70\n",
       "2021-11-12  63650.00\n",
       "2021-11-13  64913.73\n",
       "2021-11-13  64584.90\n",
       "...              ...\n",
       "2022-09-20  18996.90\n",
       "2022-09-20  18990.00\n",
       "2022-09-21  18705.98\n",
       "2022-09-21  18705.90\n",
       "2022-09-21  18704.00\n",
       "\n",
       "[942 rows x 1 columns]"
      ]
     },
     "execution_count": 7,
     "metadata": {},
     "output_type": "execute_result"
    }
   ],
   "source": [
    "startdate_btc_1= pd.to_datetime('2017-12-16').date()\n",
    "enddate_btc_1 = pd.to_datetime('2018-12-18').date()\n",
    "btc_first_bear = btc_df.loc[startdate_btc_1:enddate_btc_1]\n",
    "btc_first_bear\n",
    "startdate_btc_2= pd.to_datetime('2021-11-12').date()\n",
    "enddate_btc_2 = pd.to_datetime('2022-09-21').date()\n",
    "btc_second_bear = btc_df.loc[startdate_btc_2:enddate_btc_2]\n",
    "btc_second_bear\n",
    "\n"
   ]
  },
  {
   "cell_type": "code",
   "execution_count": 8,
   "metadata": {},
   "outputs": [
    {
     "data": {
      "text/html": [
       "<div>\n",
       "<style scoped>\n",
       "    .dataframe tbody tr th:only-of-type {\n",
       "        vertical-align: middle;\n",
       "    }\n",
       "\n",
       "    .dataframe tbody tr th {\n",
       "        vertical-align: top;\n",
       "    }\n",
       "\n",
       "    .dataframe thead th {\n",
       "        text-align: right;\n",
       "    }\n",
       "</style>\n",
       "<table border=\"1\" class=\"dataframe\">\n",
       "  <thead>\n",
       "    <tr style=\"text-align: right;\">\n",
       "      <th></th>\n",
       "      <th>close</th>\n",
       "    </tr>\n",
       "    <tr>\n",
       "      <th>timestamp</th>\n",
       "      <th></th>\n",
       "    </tr>\n",
       "  </thead>\n",
       "  <tbody>\n",
       "    <tr>\n",
       "      <th>2021-11-08</th>\n",
       "      <td>4828.79</td>\n",
       "    </tr>\n",
       "    <tr>\n",
       "      <th>2021-11-08</th>\n",
       "      <td>4823.26</td>\n",
       "    </tr>\n",
       "    <tr>\n",
       "      <th>2021-11-08</th>\n",
       "      <td>4827.30</td>\n",
       "    </tr>\n",
       "    <tr>\n",
       "      <th>2021-11-09</th>\n",
       "      <td>4702.01</td>\n",
       "    </tr>\n",
       "    <tr>\n",
       "      <th>2021-11-09</th>\n",
       "      <td>4704.56</td>\n",
       "    </tr>\n",
       "    <tr>\n",
       "      <th>...</th>\n",
       "      <td>...</td>\n",
       "    </tr>\n",
       "    <tr>\n",
       "      <th>2022-06-17</th>\n",
       "      <td>1075.81</td>\n",
       "    </tr>\n",
       "    <tr>\n",
       "      <th>2022-06-17</th>\n",
       "      <td>1078.70</td>\n",
       "    </tr>\n",
       "    <tr>\n",
       "      <th>2022-06-18</th>\n",
       "      <td>966.60</td>\n",
       "    </tr>\n",
       "    <tr>\n",
       "      <th>2022-06-18</th>\n",
       "      <td>965.46</td>\n",
       "    </tr>\n",
       "    <tr>\n",
       "      <th>2022-06-18</th>\n",
       "      <td>966.10</td>\n",
       "    </tr>\n",
       "  </tbody>\n",
       "</table>\n",
       "<p>669 rows × 1 columns</p>\n",
       "</div>"
      ],
      "text/plain": [
       "              close\n",
       "timestamp          \n",
       "2021-11-08  4828.79\n",
       "2021-11-08  4823.26\n",
       "2021-11-08  4827.30\n",
       "2021-11-09  4702.01\n",
       "2021-11-09  4704.56\n",
       "...             ...\n",
       "2022-06-17  1075.81\n",
       "2022-06-17  1078.70\n",
       "2022-06-18   966.60\n",
       "2022-06-18   965.46\n",
       "2022-06-18   966.10\n",
       "\n",
       "[669 rows x 1 columns]"
      ]
     },
     "execution_count": 8,
     "metadata": {},
     "output_type": "execute_result"
    }
   ],
   "source": [
    "startdate_eth_1= pd.to_datetime('2017-06-12').date()\n",
    "enddate_eth_1 = pd.to_datetime('2017-07-16').date()\n",
    "eth_first_bear = eth_df.loc[startdate_eth_1:enddate_eth_1]\n",
    "eth_first_bear\n",
    "startdate_eth_2= pd.to_datetime('2018-01-13').date()\n",
    "enddate_eth_2 = pd.to_datetime('2018-12-15').date()\n",
    "eth_second_bear = eth_df.loc[startdate_eth_2:enddate_eth_2]\n",
    "eth_second_bear\n",
    "startdate_eth_3= pd.to_datetime('2021-11-08').date()\n",
    "enddate_eth_3 = pd.to_datetime('2022-06-18').date()\n",
    "eth_third_bear = eth_df.loc[startdate_eth_3:enddate_eth_3]\n",
    "eth_third_bear\n"
   ]
  },
  {
   "cell_type": "code",
   "execution_count": 9,
   "metadata": {},
   "outputs": [
    {
     "data": {
      "text/plain": [
       "close   -0.835759\n",
       "dtype: float64"
      ]
     },
     "execution_count": 9,
     "metadata": {},
     "output_type": "execute_result"
    }
   ],
   "source": [
    "#percent change of first btc bear market\n",
    "btc_drawdown_1= (btc_first_bear.min()/btc_first_bear.max())-1\n",
    "btc_drawdown_1"
   ]
  },
  {
   "cell_type": "code",
   "execution_count": 10,
   "metadata": {},
   "outputs": [
    {
     "data": {
      "text/plain": [
       "close    368\n",
       "dtype: int64"
      ]
     },
     "execution_count": 10,
     "metadata": {},
     "output_type": "execute_result"
    }
   ],
   "source": [
    "#duration of first btc bear market\n",
    "btc_drawdown_time_1 = btc_first_bear.count()\n",
    "btc_drawdown_time_1"
   ]
  },
  {
   "cell_type": "code",
   "execution_count": 11,
   "metadata": {},
   "outputs": [
    {
     "data": {
      "text/plain": [
       "close    0.048611\n",
       "dtype: float64"
      ]
     },
     "execution_count": 11,
     "metadata": {},
     "output_type": "execute_result"
    }
   ],
   "source": [
    "btc_bear_1_returns= btc_first_bear.pct_change()\n",
    "btc_bear_1_vol = btc_bear_1_returns.std()\n",
    "btc_bear_1_vol\n"
   ]
  },
  {
   "cell_type": "code",
   "execution_count": 12,
   "metadata": {},
   "outputs": [
    {
     "data": {
      "text/plain": [
       "close   -0.722548\n",
       "dtype: float64"
      ]
     },
     "execution_count": 12,
     "metadata": {},
     "output_type": "execute_result"
    }
   ],
   "source": [
    "#percent change of second btc bear market\n",
    "btc_drawdown_2= (btc_second_bear.min()/btc_second_bear.max())-1\n",
    "btc_drawdown_2"
   ]
  },
  {
   "cell_type": "code",
   "execution_count": 27,
   "metadata": {},
   "outputs": [
    {
     "data": {
      "text/plain": [
       "942"
      ]
     },
     "execution_count": 27,
     "metadata": {},
     "output_type": "execute_result"
    }
   ],
   "source": [
    "#duration of second btc bear market\n",
    "btc_drawdown_time_2 = btc_second_bear['close'].count()\n",
    "btc_drawdown_time_2"
   ]
  },
  {
   "cell_type": "code",
   "execution_count": 14,
   "metadata": {},
   "outputs": [
    {
     "data": {
      "text/plain": [
       "close    0.021216\n",
       "dtype: float64"
      ]
     },
     "execution_count": 14,
     "metadata": {},
     "output_type": "execute_result"
    }
   ],
   "source": [
    "# standard deviation\n",
    "btc_bear_2_returns= btc_second_bear.pct_change()\n",
    "btc_bear_2_vol = btc_bear_2_returns.std()\n",
    "btc_bear_2_vol"
   ]
  },
  {
   "cell_type": "code",
   "execution_count": null,
   "metadata": {},
   "outputs": [],
   "source": [
    "eth_bear_time_ = eth_first_bear.count()\n",
    "eth_bear_"
   ]
  },
  {
   "cell_type": "code",
   "execution_count": 20,
   "metadata": {},
   "outputs": [
    {
     "data": {
      "text/plain": [
       "close    35\n",
       "dtype: int64"
      ]
     },
     "execution_count": 20,
     "metadata": {},
     "output_type": "execute_result"
    }
   ],
   "source": [
    "#duration of first eth bear market\n",
    "eth_bear_time_1 = eth_first_bear.count()\n",
    "eth_bear_time_1"
   ]
  },
  {
   "cell_type": "code",
   "execution_count": 17,
   "metadata": {},
   "outputs": [
    {
     "data": {
      "text/plain": [
       "close    0.077136\n",
       "dtype: float64"
      ]
     },
     "execution_count": 17,
     "metadata": {},
     "output_type": "execute_result"
    }
   ],
   "source": [
    "# standard deviation\n",
    "eth_bear_1_returns= eth_first_bear.pct_change()\n",
    "eth_bear_1_vol = eth_bear_1_returns.std()\n",
    "eth_bear_1_vol"
   ]
  },
  {
   "cell_type": "code",
   "execution_count": 37,
   "metadata": {},
   "outputs": [
    {
     "data": {
      "text/plain": [
       "close   -0.582823\n",
       "dtype: float64"
      ]
     },
     "execution_count": 37,
     "metadata": {},
     "output_type": "execute_result"
    }
   ],
   "source": [
    "#percent change of second eth bear market\n",
    "eth_drawdown_1= (eth_first_bear.min()/eth_first_bear.max())-1\n",
    "eth_drawdown_1"
   ]
  },
  {
   "cell_type": "code",
   "execution_count": 22,
   "metadata": {},
   "outputs": [
    {
     "data": {
      "text/plain": [
       "close    337\n",
       "dtype: int64"
      ]
     },
     "execution_count": 22,
     "metadata": {},
     "output_type": "execute_result"
    }
   ],
   "source": [
    "#duration of second eth bear market\n",
    "eth_bear_time_2 = eth_second_bear.count()\n",
    "eth_bear_time_2"
   ]
  },
  {
   "cell_type": "code",
   "execution_count": 23,
   "metadata": {},
   "outputs": [
    {
     "data": {
      "text/plain": [
       "close    0.05885\n",
       "dtype: float64"
      ]
     },
     "execution_count": 23,
     "metadata": {},
     "output_type": "execute_result"
    }
   ],
   "source": [
    "# standard deviation\n",
    "eth_bear_2_returns= eth_second_bear.pct_change()\n",
    "eth_bear_2_vol = eth_bear_2_returns.std()\n",
    "eth_bear_2_vol"
   ]
  },
  {
   "cell_type": "code",
   "execution_count": 29,
   "metadata": {},
   "outputs": [
    {
     "data": {
      "text/plain": [
       "close   -0.939712\n",
       "dtype: float64"
      ]
     },
     "execution_count": 29,
     "metadata": {},
     "output_type": "execute_result"
    }
   ],
   "source": [
    "#percent change of second btc bear market\n",
    "eth_drawdown_2= (eth_second_bear.min()/eth_second_bear.max())-1\n",
    "eth_drawdown_2"
   ]
  },
  {
   "cell_type": "code",
   "execution_count": 24,
   "metadata": {},
   "outputs": [
    {
     "data": {
      "text/plain": [
       "close   -0.800062\n",
       "dtype: float64"
      ]
     },
     "execution_count": 24,
     "metadata": {},
     "output_type": "execute_result"
    }
   ],
   "source": [
    "#percent change of third eth bear market\n",
    "eth_drawdown_3= (eth_third_bear.min()/eth_third_bear.max())-1\n",
    "eth_drawdown_3"
   ]
  },
  {
   "cell_type": "code",
   "execution_count": 25,
   "metadata": {},
   "outputs": [
    {
     "data": {
      "text/plain": [
       "close    669\n",
       "dtype: int64"
      ]
     },
     "execution_count": 25,
     "metadata": {},
     "output_type": "execute_result"
    }
   ],
   "source": [
    "#duration of third eth bear market\n",
    "eth_bear_time_3 = eth_third_bear.count()\n",
    "eth_bear_time_3"
   ]
  },
  {
   "cell_type": "code",
   "execution_count": 26,
   "metadata": {},
   "outputs": [
    {
     "data": {
      "text/plain": [
       "close    0.02707\n",
       "dtype: float64"
      ]
     },
     "execution_count": 26,
     "metadata": {},
     "output_type": "execute_result"
    }
   ],
   "source": [
    "# standard deviation\n",
    "eth_bear_3_returns= eth_third_bear.pct_change()\n",
    "eth_bear_3_vol = eth_bear_3_returns.std()\n",
    "eth_bear_3_vol"
   ]
  },
  {
   "cell_type": "code",
   "execution_count": 34,
   "metadata": {},
   "outputs": [
    {
     "data": {
      "text/html": [
       "<div>\n",
       "<style scoped>\n",
       "    .dataframe tbody tr th:only-of-type {\n",
       "        vertical-align: middle;\n",
       "    }\n",
       "\n",
       "    .dataframe tbody tr th {\n",
       "        vertical-align: top;\n",
       "    }\n",
       "\n",
       "    .dataframe thead th {\n",
       "        text-align: right;\n",
       "    }\n",
       "</style>\n",
       "<table border=\"1\" class=\"dataframe\">\n",
       "  <thead>\n",
       "    <tr style=\"text-align: right;\">\n",
       "      <th></th>\n",
       "      <th>Bear</th>\n",
       "      <th>Pct Drawdown</th>\n",
       "      <th>Days Elapsed</th>\n",
       "    </tr>\n",
       "  </thead>\n",
       "  <tbody>\n",
       "    <tr>\n",
       "      <th>0</th>\n",
       "      <td>First Bear</td>\n",
       "      <td>-58.28</td>\n",
       "      <td>35</td>\n",
       "    </tr>\n",
       "    <tr>\n",
       "      <th>1</th>\n",
       "      <td>Second Bear</td>\n",
       "      <td>-93.90</td>\n",
       "      <td>337</td>\n",
       "    </tr>\n",
       "    <tr>\n",
       "      <th>2</th>\n",
       "      <td>Third Bear</td>\n",
       "      <td>-80.00</td>\n",
       "      <td>669</td>\n",
       "    </tr>\n",
       "  </tbody>\n",
       "</table>\n",
       "</div>"
      ],
      "text/plain": [
       "          Bear  Pct Drawdown  Days Elapsed\n",
       "0   First Bear        -58.28            35\n",
       "1  Second Bear        -93.90           337\n",
       "2   Third Bear        -80.00           669"
      ]
     },
     "execution_count": 34,
     "metadata": {},
     "output_type": "execute_result"
    }
   ],
   "source": [
    "import hvplot.pandas\n",
    "\n",
    "eth_drawdown_data = [['First Bear', -58.28,35],['Second Bear', -93.9,337],['Third Bear', -80,669]]\n",
    "eth_drawdown_df = pd.DataFrame(eth_drawdown_data, columns=['Bear','Pct Drawdown','Days Elapsed'])\n",
    "eth_drawdown_df.set_index('Bear')\n",
    "eth_drawdown_df"
   ]
  },
  {
   "cell_type": "code",
   "execution_count": 36,
   "metadata": {},
   "outputs": [
    {
     "data": {},
     "metadata": {},
     "output_type": "display_data"
    },
    {
     "data": {
      "application/vnd.holoviews_exec.v0+json": "",
      "text/html": [
       "<div id='1247'>\n",
       "\n",
       "\n",
       "\n",
       "\n",
       "\n",
       "  <div class=\"bk-root\" id=\"c520bbf5-0f6c-4d05-aa9a-eae31402fa13\" data-root-id=\"1247\"></div>\n",
       "</div>\n",
       "<script type=\"application/javascript\">(function(root) {\n",
       "  function embed_document(root) {\n",
       "    var docs_json = {\"074a42e2-8edd-4b56-bf34-25eecd3519ae\":{\"defs\":[{\"extends\":null,\"module\":null,\"name\":\"ReactiveHTML1\",\"overrides\":[],\"properties\":[]},{\"extends\":null,\"module\":null,\"name\":\"FlexBox1\",\"overrides\":[],\"properties\":[{\"default\":\"flex-start\",\"kind\":null,\"name\":\"align_content\"},{\"default\":\"flex-start\",\"kind\":null,\"name\":\"align_items\"},{\"default\":\"row\",\"kind\":null,\"name\":\"flex_direction\"},{\"default\":\"wrap\",\"kind\":null,\"name\":\"flex_wrap\"},{\"default\":\"flex-start\",\"kind\":null,\"name\":\"justify_content\"}]},{\"extends\":null,\"module\":null,\"name\":\"GridStack1\",\"overrides\":[],\"properties\":[{\"default\":\"warn\",\"kind\":null,\"name\":\"mode\"},{\"default\":null,\"kind\":null,\"name\":\"ncols\"},{\"default\":null,\"kind\":null,\"name\":\"nrows\"},{\"default\":true,\"kind\":null,\"name\":\"allow_resize\"},{\"default\":true,\"kind\":null,\"name\":\"allow_drag\"},{\"default\":[],\"kind\":null,\"name\":\"state\"}]},{\"extends\":null,\"module\":null,\"name\":\"click1\",\"overrides\":[],\"properties\":[{\"default\":\"\",\"kind\":null,\"name\":\"terminal_output\"},{\"default\":\"\",\"kind\":null,\"name\":\"debug_name\"},{\"default\":0,\"kind\":null,\"name\":\"clears\"}]},{\"extends\":null,\"module\":null,\"name\":\"TemplateActions1\",\"overrides\":[],\"properties\":[{\"default\":0,\"kind\":null,\"name\":\"open_modal\"},{\"default\":0,\"kind\":null,\"name\":\"close_modal\"}]},{\"extends\":null,\"module\":null,\"name\":\"MaterialTemplateActions1\",\"overrides\":[],\"properties\":[{\"default\":0,\"kind\":null,\"name\":\"open_modal\"},{\"default\":0,\"kind\":null,\"name\":\"close_modal\"}]}],\"roots\":{\"references\":[{\"attributes\":{\"factors\":[[\"0\",\"Days Elapsed\"],[\"0\",\"Pct Drawdown\"],[\"1\",\"Days Elapsed\"],[\"1\",\"Pct Drawdown\"],[\"2\",\"Days Elapsed\"],[\"2\",\"Pct Drawdown\"]],\"tags\":[[[\"index\",\"index\",null],[\"Variable\",\"Variable\",null]]]},\"id\":\"1249\",\"type\":\"FactorRange\"},{\"attributes\":{\"fill_alpha\":{\"value\":0.2},\"fill_color\":{\"field\":\"Variable\",\"transform\":{\"id\":\"1281\"}},\"hatch_alpha\":{\"value\":0.2},\"hatch_color\":{\"field\":\"Variable\",\"transform\":{\"id\":\"1281\"}},\"line_alpha\":{\"value\":0.2},\"top\":{\"field\":\"value\"},\"width\":{\"value\":0.8},\"x\":{\"field\":\"xoffsets\"}},\"id\":\"1287\",\"type\":\"VBar\"},{\"attributes\":{},\"id\":\"1304\",\"type\":\"UnionRenderers\"},{\"attributes\":{},\"id\":\"1257\",\"type\":\"CategoricalScale\"},{\"attributes\":{},\"id\":\"1295\",\"type\":\"BasicTickFormatter\"},{\"attributes\":{\"callback\":null,\"renderers\":[{\"id\":\"1288\"}],\"tags\":[\"hv_created\"],\"tooltips\":[[\"index\",\"@{index}\"],[\"Variable\",\"@{Variable}\"],[\"value\",\"@{value}\"]]},\"id\":\"1251\",\"type\":\"HoverTool\"},{\"attributes\":{\"fill_color\":{\"field\":\"Variable\",\"transform\":{\"id\":\"1281\"}},\"hatch_color\":{\"field\":\"Variable\",\"transform\":{\"id\":\"1281\"}},\"top\":{\"field\":\"value\"},\"width\":{\"value\":0.8},\"x\":{\"field\":\"xoffsets\"}},\"id\":\"1285\",\"type\":\"VBar\"},{\"attributes\":{},\"id\":\"1268\",\"type\":\"SaveTool\"},{\"attributes\":{},\"id\":\"1269\",\"type\":\"PanTool\"},{\"attributes\":{},\"id\":\"1270\",\"type\":\"WheelZoomTool\"},{\"attributes\":{},\"id\":\"1292\",\"type\":\"CategoricalTickFormatter\"},{\"attributes\":{\"coordinates\":null,\"data_source\":{\"id\":\"1282\"},\"glyph\":{\"id\":\"1285\"},\"group\":null,\"hover_glyph\":null,\"muted_glyph\":{\"id\":\"1287\"},\"nonselection_glyph\":{\"id\":\"1286\"},\"selection_glyph\":{\"id\":\"1290\"},\"view\":{\"id\":\"1289\"}},\"id\":\"1288\",\"type\":\"GlyphRenderer\"},{\"attributes\":{\"below\":[{\"id\":\"1261\"}],\"center\":[{\"id\":\"1263\"},{\"id\":\"1267\"}],\"height\":300,\"left\":[{\"id\":\"1264\"}],\"margin\":[5,5,5,5],\"min_border_bottom\":10,\"min_border_left\":10,\"min_border_right\":10,\"min_border_top\":10,\"renderers\":[{\"id\":\"1288\"}],\"sizing_mode\":\"fixed\",\"title\":{\"id\":\"1253\"},\"toolbar\":{\"id\":\"1274\"},\"width\":700,\"x_range\":{\"id\":\"1249\"},\"x_scale\":{\"id\":\"1257\"},\"y_range\":{\"id\":\"1250\"},\"y_scale\":{\"id\":\"1259\"}},\"id\":\"1252\",\"subtype\":\"Figure\",\"type\":\"Plot\"},{\"attributes\":{\"overlay\":{\"id\":\"1273\"}},\"id\":\"1271\",\"type\":\"BoxZoomTool\"},{\"attributes\":{\"margin\":[5,5,5,5],\"name\":\"HSpacer02050\",\"sizing_mode\":\"stretch_width\"},\"id\":\"1317\",\"type\":\"Spacer\"},{\"attributes\":{\"end\":745.29,\"reset_end\":745.29,\"reset_start\":-170.19,\"start\":-170.19,\"tags\":[[[\"value\",\"value\",null]]]},\"id\":\"1250\",\"type\":\"Range1d\"},{\"attributes\":{\"tools\":[{\"id\":\"1251\"},{\"id\":\"1268\"},{\"id\":\"1269\"},{\"id\":\"1270\"},{\"id\":\"1271\"},{\"id\":\"1272\"}]},\"id\":\"1274\",\"type\":\"Toolbar\"},{\"attributes\":{\"source\":{\"id\":\"1282\"}},\"id\":\"1289\",\"type\":\"CDSView\"},{\"attributes\":{\"coordinates\":null,\"group\":null,\"text_color\":\"black\",\"text_font_size\":\"12pt\"},\"id\":\"1253\",\"type\":\"Title\"},{\"attributes\":{\"margin\":[5,5,5,5],\"name\":\"HSpacer02049\",\"sizing_mode\":\"stretch_width\"},\"id\":\"1248\",\"type\":\"Spacer\"},{\"attributes\":{},\"id\":\"1272\",\"type\":\"ResetTool\"},{\"attributes\":{\"factors\":[\"Pct Drawdown\",\"Days Elapsed\"],\"palette\":[\"#30a2da\",\"#fc4f30\"]},\"id\":\"1281\",\"type\":\"CategoricalColorMapper\"},{\"attributes\":{\"axis\":{\"id\":\"1264\"},\"coordinates\":null,\"dimension\":1,\"grid_line_color\":null,\"group\":null,\"ticker\":null},\"id\":\"1267\",\"type\":\"Grid\"},{\"attributes\":{},\"id\":\"1259\",\"type\":\"LinearScale\"},{\"attributes\":{},\"id\":\"1262\",\"type\":\"CategoricalTicker\"},{\"attributes\":{\"bottom_units\":\"screen\",\"coordinates\":null,\"fill_alpha\":0.5,\"fill_color\":\"lightgrey\",\"group\":null,\"left_units\":\"screen\",\"level\":\"overlay\",\"line_alpha\":1.0,\"line_color\":\"black\",\"line_dash\":[4,4],\"line_width\":2,\"right_units\":\"screen\",\"syncable\":false,\"top_units\":\"screen\"},\"id\":\"1273\",\"type\":\"BoxAnnotation\"},{\"attributes\":{\"bottom\":{\"value\":0},\"fill_alpha\":{\"value\":1.0},\"fill_color\":{\"field\":\"Variable\",\"transform\":{\"id\":\"1281\"}},\"hatch_alpha\":{\"value\":1.0},\"hatch_color\":{\"field\":\"Variable\",\"transform\":{\"id\":\"1281\"}},\"hatch_scale\":{\"value\":12.0},\"hatch_weight\":{\"value\":1.0},\"line_alpha\":{\"value\":1.0},\"line_cap\":{\"value\":\"butt\"},\"line_color\":{\"value\":\"black\"},\"line_dash\":{\"value\":[]},\"line_dash_offset\":{\"value\":0},\"line_join\":{\"value\":\"bevel\"},\"line_width\":{\"value\":1},\"top\":{\"field\":\"value\"},\"width\":{\"value\":0.8},\"x\":{\"field\":\"xoffsets\"}},\"id\":\"1290\",\"type\":\"VBar\"},{\"attributes\":{\"axis_label\":\"\",\"coordinates\":null,\"formatter\":{\"id\":\"1292\"},\"group\":null,\"major_label_orientation\":0.7853981633974483,\"major_label_policy\":{\"id\":\"1293\"},\"ticker\":{\"id\":\"1262\"}},\"id\":\"1261\",\"type\":\"CategoricalAxis\"},{\"attributes\":{},\"id\":\"1293\",\"type\":\"AllLabels\"},{\"attributes\":{\"axis\":{\"id\":\"1261\"},\"coordinates\":null,\"grid_line_color\":null,\"group\":null,\"ticker\":null},\"id\":\"1263\",\"type\":\"Grid\"},{\"attributes\":{\"data\":{\"Variable\":[\"Pct Drawdown\",\"Pct Drawdown\",\"Pct Drawdown\",\"Days Elapsed\",\"Days Elapsed\",\"Days Elapsed\"],\"index\":[\"0\",\"1\",\"2\",\"0\",\"1\",\"2\"],\"value\":{\"__ndarray__\":\"pHA9CtcjTcCamZmZmXlXwAAAAAAAAFTAAAAAAACAQUAAAAAAABB1QAAAAAAA6IRA\",\"dtype\":\"float64\",\"order\":\"little\",\"shape\":[6]},\"xoffsets\":[[\"0\",\"Pct Drawdown\"],[\"1\",\"Pct Drawdown\"],[\"2\",\"Pct Drawdown\"],[\"0\",\"Days Elapsed\"],[\"1\",\"Days Elapsed\"],[\"2\",\"Days Elapsed\"]]},\"selected\":{\"id\":\"1283\"},\"selection_policy\":{\"id\":\"1304\"}},\"id\":\"1282\",\"type\":\"ColumnDataSource\"},{\"attributes\":{},\"id\":\"1296\",\"type\":\"AllLabels\"},{\"attributes\":{\"children\":[{\"id\":\"1248\"},{\"id\":\"1252\"},{\"id\":\"1317\"}],\"margin\":[0,0,0,0],\"name\":\"Row02045\",\"tags\":[\"embedded\"]},\"id\":\"1247\",\"type\":\"Row\"},{\"attributes\":{},\"id\":\"1265\",\"type\":\"BasicTicker\"},{\"attributes\":{\"axis_label\":\"\",\"coordinates\":null,\"formatter\":{\"id\":\"1295\"},\"group\":null,\"major_label_policy\":{\"id\":\"1296\"},\"ticker\":{\"id\":\"1265\"}},\"id\":\"1264\",\"type\":\"LinearAxis\"},{\"attributes\":{},\"id\":\"1283\",\"type\":\"Selection\"},{\"attributes\":{\"fill_alpha\":{\"value\":0.1},\"fill_color\":{\"field\":\"Variable\",\"transform\":{\"id\":\"1281\"}},\"hatch_alpha\":{\"value\":0.1},\"hatch_color\":{\"field\":\"Variable\",\"transform\":{\"id\":\"1281\"}},\"line_alpha\":{\"value\":0.1},\"top\":{\"field\":\"value\"},\"width\":{\"value\":0.8},\"x\":{\"field\":\"xoffsets\"}},\"id\":\"1286\",\"type\":\"VBar\"}],\"root_ids\":[\"1247\"]},\"title\":\"Bokeh Application\",\"version\":\"2.4.2\"}};\n",
       "    var render_items = [{\"docid\":\"074a42e2-8edd-4b56-bf34-25eecd3519ae\",\"root_ids\":[\"1247\"],\"roots\":{\"1247\":\"c520bbf5-0f6c-4d05-aa9a-eae31402fa13\"}}];\n",
       "    root.Bokeh.embed.embed_items_notebook(docs_json, render_items);\n",
       "  }\n",
       "  if (root.Bokeh !== undefined && root.Bokeh.Panel !== undefined) {\n",
       "    embed_document(root);\n",
       "  } else {\n",
       "    var attempts = 0;\n",
       "    var timer = setInterval(function(root) {\n",
       "      if (root.Bokeh !== undefined && root.Bokeh.Panel !== undefined) {\n",
       "        clearInterval(timer);\n",
       "        embed_document(root);\n",
       "      } else if (document.readyState == \"complete\") {\n",
       "        attempts++;\n",
       "        if (attempts > 200) {\n",
       "          clearInterval(timer);\n",
       "          console.log(\"Bokeh: ERROR: Unable to run BokehJS code because BokehJS library is missing\");\n",
       "        }\n",
       "      }\n",
       "    }, 25, root)\n",
       "  }\n",
       "})(window);</script>"
      ],
      "text/plain": [
       ":Bars   [index,Variable]   (value)"
      ]
     },
     "execution_count": 36,
     "metadata": {
      "application/vnd.holoviews_exec.v0+json": {
       "id": "1247"
      }
     },
     "output_type": "execute_result"
    }
   ],
   "source": [
    "eth_drawdown_df.hvplot.bar(\n",
    "    rot=45\n",
    ")"
   ]
  },
  {
   "cell_type": "code",
   "execution_count": 39,
   "metadata": {},
   "outputs": [
    {
     "data": {
      "text/html": [
       "<div>\n",
       "<style scoped>\n",
       "    .dataframe tbody tr th:only-of-type {\n",
       "        vertical-align: middle;\n",
       "    }\n",
       "\n",
       "    .dataframe tbody tr th {\n",
       "        vertical-align: top;\n",
       "    }\n",
       "\n",
       "    .dataframe thead th {\n",
       "        text-align: right;\n",
       "    }\n",
       "</style>\n",
       "<table border=\"1\" class=\"dataframe\">\n",
       "  <thead>\n",
       "    <tr style=\"text-align: right;\">\n",
       "      <th></th>\n",
       "      <th>Bear</th>\n",
       "      <th>Pct Drawdown</th>\n",
       "      <th>Days Elapsed</th>\n",
       "    </tr>\n",
       "  </thead>\n",
       "  <tbody>\n",
       "    <tr>\n",
       "      <th>0</th>\n",
       "      <td>First Bear</td>\n",
       "      <td>-83.57</td>\n",
       "      <td>368</td>\n",
       "    </tr>\n",
       "    <tr>\n",
       "      <th>1</th>\n",
       "      <td>Second Bear</td>\n",
       "      <td>-72.25</td>\n",
       "      <td>942</td>\n",
       "    </tr>\n",
       "  </tbody>\n",
       "</table>\n",
       "</div>"
      ],
      "text/plain": [
       "          Bear  Pct Drawdown  Days Elapsed\n",
       "0   First Bear        -83.57           368\n",
       "1  Second Bear        -72.25           942"
      ]
     },
     "execution_count": 39,
     "metadata": {},
     "output_type": "execute_result"
    }
   ],
   "source": [
    "import hvplot.pandas\n",
    "\n",
    "btc_drawdown_data = [['First Bear', -83.57,368],['Second Bear', -72.25,942]]\n",
    "btc_drawdown_df = pd.DataFrame(btc_drawdown_data, columns=['Bear','Pct Drawdown','Days Elapsed'])\n",
    "btc_drawdown_df.set_index('Bear')\n",
    "btc_drawdown_df"
   ]
  },
  {
   "cell_type": "code",
   "execution_count": 40,
   "metadata": {},
   "outputs": [
    {
     "data": {},
     "metadata": {},
     "output_type": "display_data"
    },
    {
     "data": {
      "application/vnd.holoviews_exec.v0+json": "",
      "text/html": [
       "<div id='1369'>\n",
       "\n",
       "\n",
       "\n",
       "\n",
       "\n",
       "  <div class=\"bk-root\" id=\"9f83270a-d1e4-4c3e-ae50-d3b1f1dd8054\" data-root-id=\"1369\"></div>\n",
       "</div>\n",
       "<script type=\"application/javascript\">(function(root) {\n",
       "  function embed_document(root) {\n",
       "    var docs_json = {\"4955fe9d-4bf4-4f5d-84a2-d1dccb19b277\":{\"defs\":[{\"extends\":null,\"module\":null,\"name\":\"ReactiveHTML1\",\"overrides\":[],\"properties\":[]},{\"extends\":null,\"module\":null,\"name\":\"FlexBox1\",\"overrides\":[],\"properties\":[{\"default\":\"flex-start\",\"kind\":null,\"name\":\"align_content\"},{\"default\":\"flex-start\",\"kind\":null,\"name\":\"align_items\"},{\"default\":\"row\",\"kind\":null,\"name\":\"flex_direction\"},{\"default\":\"wrap\",\"kind\":null,\"name\":\"flex_wrap\"},{\"default\":\"flex-start\",\"kind\":null,\"name\":\"justify_content\"}]},{\"extends\":null,\"module\":null,\"name\":\"GridStack1\",\"overrides\":[],\"properties\":[{\"default\":\"warn\",\"kind\":null,\"name\":\"mode\"},{\"default\":null,\"kind\":null,\"name\":\"ncols\"},{\"default\":null,\"kind\":null,\"name\":\"nrows\"},{\"default\":true,\"kind\":null,\"name\":\"allow_resize\"},{\"default\":true,\"kind\":null,\"name\":\"allow_drag\"},{\"default\":[],\"kind\":null,\"name\":\"state\"}]},{\"extends\":null,\"module\":null,\"name\":\"click1\",\"overrides\":[],\"properties\":[{\"default\":\"\",\"kind\":null,\"name\":\"terminal_output\"},{\"default\":\"\",\"kind\":null,\"name\":\"debug_name\"},{\"default\":0,\"kind\":null,\"name\":\"clears\"}]},{\"extends\":null,\"module\":null,\"name\":\"TemplateActions1\",\"overrides\":[],\"properties\":[{\"default\":0,\"kind\":null,\"name\":\"open_modal\"},{\"default\":0,\"kind\":null,\"name\":\"close_modal\"}]},{\"extends\":null,\"module\":null,\"name\":\"MaterialTemplateActions1\",\"overrides\":[],\"properties\":[{\"default\":0,\"kind\":null,\"name\":\"open_modal\"},{\"default\":0,\"kind\":null,\"name\":\"close_modal\"}]}],\"roots\":{\"references\":[{\"attributes\":{\"fill_color\":{\"field\":\"Variable\",\"transform\":{\"id\":\"1403\"}},\"hatch_color\":{\"field\":\"Variable\",\"transform\":{\"id\":\"1403\"}},\"top\":{\"field\":\"value\"},\"width\":{\"value\":0.8},\"x\":{\"field\":\"xoffsets\"}},\"id\":\"1407\",\"type\":\"VBar\"},{\"attributes\":{\"below\":[{\"id\":\"1383\"}],\"center\":[{\"id\":\"1385\"},{\"id\":\"1389\"}],\"height\":300,\"left\":[{\"id\":\"1386\"}],\"margin\":[5,5,5,5],\"min_border_bottom\":10,\"min_border_left\":10,\"min_border_right\":10,\"min_border_top\":10,\"renderers\":[{\"id\":\"1410\"}],\"sizing_mode\":\"fixed\",\"title\":{\"id\":\"1375\"},\"toolbar\":{\"id\":\"1396\"},\"width\":700,\"x_range\":{\"id\":\"1371\"},\"x_scale\":{\"id\":\"1379\"},\"y_range\":{\"id\":\"1372\"},\"y_scale\":{\"id\":\"1381\"}},\"id\":\"1374\",\"subtype\":\"Figure\",\"type\":\"Plot\"},{\"attributes\":{},\"id\":\"1392\",\"type\":\"WheelZoomTool\"},{\"attributes\":{\"coordinates\":null,\"group\":null,\"text_color\":\"black\",\"text_font_size\":\"12pt\"},\"id\":\"1375\",\"type\":\"Title\"},{\"attributes\":{\"overlay\":{\"id\":\"1395\"}},\"id\":\"1393\",\"type\":\"BoxZoomTool\"},{\"attributes\":{},\"id\":\"1381\",\"type\":\"LinearScale\"},{\"attributes\":{},\"id\":\"1405\",\"type\":\"Selection\"},{\"attributes\":{\"children\":[{\"id\":\"1370\"},{\"id\":\"1374\"},{\"id\":\"1439\"}],\"margin\":[0,0,0,0],\"name\":\"Row02231\",\"tags\":[\"embedded\"]},\"id\":\"1369\",\"type\":\"Row\"},{\"attributes\":{},\"id\":\"1391\",\"type\":\"PanTool\"},{\"attributes\":{\"data\":{\"Variable\":[\"Pct Drawdown\",\"Pct Drawdown\",\"Days Elapsed\",\"Days Elapsed\"],\"index\":[\"0\",\"1\",\"0\",\"1\"],\"value\":{\"__ndarray__\":\"FK5H4XrkVMAAAAAAABBSwAAAAAAAAHdAAAAAAABwjUA=\",\"dtype\":\"float64\",\"order\":\"little\",\"shape\":[4]},\"xoffsets\":[[\"0\",\"Pct Drawdown\"],[\"1\",\"Pct Drawdown\"],[\"0\",\"Days Elapsed\"],[\"1\",\"Days Elapsed\"]]},\"selected\":{\"id\":\"1405\"},\"selection_policy\":{\"id\":\"1426\"}},\"id\":\"1404\",\"type\":\"ColumnDataSource\"},{\"attributes\":{},\"id\":\"1394\",\"type\":\"ResetTool\"},{\"attributes\":{\"axis\":{\"id\":\"1386\"},\"coordinates\":null,\"dimension\":1,\"grid_line_color\":null,\"group\":null,\"ticker\":null},\"id\":\"1389\",\"type\":\"Grid\"},{\"attributes\":{\"axis_label\":\"\",\"coordinates\":null,\"formatter\":{\"id\":\"1414\"},\"group\":null,\"major_label_orientation\":0.7853981633974483,\"major_label_policy\":{\"id\":\"1415\"},\"ticker\":{\"id\":\"1384\"}},\"id\":\"1383\",\"type\":\"CategoricalAxis\"},{\"attributes\":{},\"id\":\"1379\",\"type\":\"CategoricalScale\"},{\"attributes\":{\"bottom_units\":\"screen\",\"coordinates\":null,\"fill_alpha\":0.5,\"fill_color\":\"lightgrey\",\"group\":null,\"left_units\":\"screen\",\"level\":\"overlay\",\"line_alpha\":1.0,\"line_color\":\"black\",\"line_dash\":[4,4],\"line_width\":2,\"right_units\":\"screen\",\"syncable\":false,\"top_units\":\"screen\"},\"id\":\"1395\",\"type\":\"BoxAnnotation\"},{\"attributes\":{},\"id\":\"1417\",\"type\":\"BasicTickFormatter\"},{\"attributes\":{},\"id\":\"1418\",\"type\":\"AllLabels\"},{\"attributes\":{},\"id\":\"1384\",\"type\":\"CategoricalTicker\"},{\"attributes\":{\"tools\":[{\"id\":\"1373\"},{\"id\":\"1390\"},{\"id\":\"1391\"},{\"id\":\"1392\"},{\"id\":\"1393\"},{\"id\":\"1394\"}]},\"id\":\"1396\",\"type\":\"Toolbar\"},{\"attributes\":{\"axis\":{\"id\":\"1383\"},\"coordinates\":null,\"grid_line_color\":null,\"group\":null,\"ticker\":null},\"id\":\"1385\",\"type\":\"Grid\"},{\"attributes\":{\"margin\":[5,5,5,5],\"name\":\"HSpacer02236\",\"sizing_mode\":\"stretch_width\"},\"id\":\"1439\",\"type\":\"Spacer\"},{\"attributes\":{},\"id\":\"1387\",\"type\":\"BasicTicker\"},{\"attributes\":{\"axis_label\":\"\",\"coordinates\":null,\"formatter\":{\"id\":\"1417\"},\"group\":null,\"major_label_policy\":{\"id\":\"1418\"},\"ticker\":{\"id\":\"1387\"}},\"id\":\"1386\",\"type\":\"LinearAxis\"},{\"attributes\":{},\"id\":\"1414\",\"type\":\"CategoricalTickFormatter\"},{\"attributes\":{\"end\":1044.557,\"reset_end\":1044.557,\"reset_start\":-186.127,\"start\":-186.127,\"tags\":[[[\"value\",\"value\",null]]]},\"id\":\"1372\",\"type\":\"Range1d\"},{\"attributes\":{\"factors\":[[\"0\",\"Days Elapsed\"],[\"0\",\"Pct Drawdown\"],[\"1\",\"Days Elapsed\"],[\"1\",\"Pct Drawdown\"]],\"tags\":[[[\"index\",\"index\",null],[\"Variable\",\"Variable\",null]]]},\"id\":\"1371\",\"type\":\"FactorRange\"},{\"attributes\":{\"factors\":[\"Pct Drawdown\",\"Days Elapsed\"],\"palette\":[\"#30a2da\",\"#fc4f30\"]},\"id\":\"1403\",\"type\":\"CategoricalColorMapper\"},{\"attributes\":{\"fill_alpha\":{\"value\":0.1},\"fill_color\":{\"field\":\"Variable\",\"transform\":{\"id\":\"1403\"}},\"hatch_alpha\":{\"value\":0.1},\"hatch_color\":{\"field\":\"Variable\",\"transform\":{\"id\":\"1403\"}},\"line_alpha\":{\"value\":0.1},\"top\":{\"field\":\"value\"},\"width\":{\"value\":0.8},\"x\":{\"field\":\"xoffsets\"}},\"id\":\"1408\",\"type\":\"VBar\"},{\"attributes\":{\"source\":{\"id\":\"1404\"}},\"id\":\"1411\",\"type\":\"CDSView\"},{\"attributes\":{},\"id\":\"1426\",\"type\":\"UnionRenderers\"},{\"attributes\":{\"margin\":[5,5,5,5],\"name\":\"HSpacer02235\",\"sizing_mode\":\"stretch_width\"},\"id\":\"1370\",\"type\":\"Spacer\"},{\"attributes\":{\"coordinates\":null,\"data_source\":{\"id\":\"1404\"},\"glyph\":{\"id\":\"1407\"},\"group\":null,\"hover_glyph\":null,\"muted_glyph\":{\"id\":\"1409\"},\"nonselection_glyph\":{\"id\":\"1408\"},\"selection_glyph\":{\"id\":\"1412\"},\"view\":{\"id\":\"1411\"}},\"id\":\"1410\",\"type\":\"GlyphRenderer\"},{\"attributes\":{\"bottom\":{\"value\":0},\"fill_alpha\":{\"value\":1.0},\"fill_color\":{\"field\":\"Variable\",\"transform\":{\"id\":\"1403\"}},\"hatch_alpha\":{\"value\":1.0},\"hatch_color\":{\"field\":\"Variable\",\"transform\":{\"id\":\"1403\"}},\"hatch_scale\":{\"value\":12.0},\"hatch_weight\":{\"value\":1.0},\"line_alpha\":{\"value\":1.0},\"line_cap\":{\"value\":\"butt\"},\"line_color\":{\"value\":\"black\"},\"line_dash\":{\"value\":[]},\"line_dash_offset\":{\"value\":0},\"line_join\":{\"value\":\"bevel\"},\"line_width\":{\"value\":1},\"top\":{\"field\":\"value\"},\"width\":{\"value\":0.8},\"x\":{\"field\":\"xoffsets\"}},\"id\":\"1412\",\"type\":\"VBar\"},{\"attributes\":{},\"id\":\"1390\",\"type\":\"SaveTool\"},{\"attributes\":{},\"id\":\"1415\",\"type\":\"AllLabels\"},{\"attributes\":{\"fill_alpha\":{\"value\":0.2},\"fill_color\":{\"field\":\"Variable\",\"transform\":{\"id\":\"1403\"}},\"hatch_alpha\":{\"value\":0.2},\"hatch_color\":{\"field\":\"Variable\",\"transform\":{\"id\":\"1403\"}},\"line_alpha\":{\"value\":0.2},\"top\":{\"field\":\"value\"},\"width\":{\"value\":0.8},\"x\":{\"field\":\"xoffsets\"}},\"id\":\"1409\",\"type\":\"VBar\"},{\"attributes\":{\"callback\":null,\"renderers\":[{\"id\":\"1410\"}],\"tags\":[\"hv_created\"],\"tooltips\":[[\"index\",\"@{index}\"],[\"Variable\",\"@{Variable}\"],[\"value\",\"@{value}\"]]},\"id\":\"1373\",\"type\":\"HoverTool\"}],\"root_ids\":[\"1369\"]},\"title\":\"Bokeh Application\",\"version\":\"2.4.2\"}};\n",
       "    var render_items = [{\"docid\":\"4955fe9d-4bf4-4f5d-84a2-d1dccb19b277\",\"root_ids\":[\"1369\"],\"roots\":{\"1369\":\"9f83270a-d1e4-4c3e-ae50-d3b1f1dd8054\"}}];\n",
       "    root.Bokeh.embed.embed_items_notebook(docs_json, render_items);\n",
       "  }\n",
       "  if (root.Bokeh !== undefined && root.Bokeh.Panel !== undefined) {\n",
       "    embed_document(root);\n",
       "  } else {\n",
       "    var attempts = 0;\n",
       "    var timer = setInterval(function(root) {\n",
       "      if (root.Bokeh !== undefined && root.Bokeh.Panel !== undefined) {\n",
       "        clearInterval(timer);\n",
       "        embed_document(root);\n",
       "      } else if (document.readyState == \"complete\") {\n",
       "        attempts++;\n",
       "        if (attempts > 200) {\n",
       "          clearInterval(timer);\n",
       "          console.log(\"Bokeh: ERROR: Unable to run BokehJS code because BokehJS library is missing\");\n",
       "        }\n",
       "      }\n",
       "    }, 25, root)\n",
       "  }\n",
       "})(window);</script>"
      ],
      "text/plain": [
       ":Bars   [index,Variable]   (value)"
      ]
     },
     "execution_count": 40,
     "metadata": {
      "application/vnd.holoviews_exec.v0+json": {
       "id": "1369"
      }
     },
     "output_type": "execute_result"
    }
   ],
   "source": [
    "btc_drawdown_df.hvplot.bar(\n",
    "    rot=45\n",
    ")"
   ]
  }
 ],
 "metadata": {
  "kernelspec": {
   "display_name": "Python 3.7.13 ('alpacaenv')",
   "language": "python",
   "name": "python3"
  },
  "language_info": {
   "codemirror_mode": {
    "name": "ipython",
    "version": 3
   },
   "file_extension": ".py",
   "mimetype": "text/x-python",
   "name": "python",
   "nbconvert_exporter": "python",
   "pygments_lexer": "ipython3",
   "version": "3.7.13"
  },
  "orig_nbformat": 4,
  "vscode": {
   "interpreter": {
    "hash": "3d5b49431d276833f367cc015968c06cc8ef1d06d8382a8979d7359a4917e198"
   }
  }
 },
 "nbformat": 4,
 "nbformat_minor": 2
}
