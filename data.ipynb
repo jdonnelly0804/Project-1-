{
 "cells": [
  {
   "cell_type": "code",
   "execution_count": 1,
   "metadata": {},
   "outputs": [],
   "source": [
    "import pandas as pd \n",
    "from pathlib import Path"
   ]
  },
  {
   "cell_type": "code",
   "execution_count": 12,
   "metadata": {},
   "outputs": [
    {
     "data": {
      "text/plain": [
       "92.16"
      ]
     },
     "execution_count": 12,
     "metadata": {},
     "output_type": "execute_result"
    }
   ],
   "source": [
    "sp500_df = pd.read_csv(Path('../Project-1-/Resources/SPX 500 1972 --_ Present - Sheet1.csv'),\n",
    " infer_datetime_format= True, parse_dates=True)\n",
    "sp500_df['Date'] = pd.to_datetime(sp500_df['Date']).dt.date\n",
    "sp500_df = sp500_df.set_index('Date')\n",
    "\n",
    "startdate= pd.to_datetime('1972-01-03').date()\n",
    "enddate = pd.to_datetime('1974-01-03').date()\n",
    "\n",
    "sp500_df_2yr = sp500_df.loc[startdate:enddate]\n",
    "sp500_df_2yr['Close'].max()\n",
    "sp500_df_2yr['Close'].min()\n",
    "\n",
    "\n",
    "\n"
   ]
  }
 ],
 "metadata": {
  "kernelspec": {
   "display_name": "Python 3.7.13 ('dev')",
   "language": "python",
   "name": "python3"
  },
  "language_info": {
   "codemirror_mode": {
    "name": "ipython",
    "version": 3
   },
   "file_extension": ".py",
   "mimetype": "text/x-python",
   "name": "python",
   "nbconvert_exporter": "python",
   "pygments_lexer": "ipython3",
   "version": "3.7.13"
  },
  "orig_nbformat": 4,
  "vscode": {
   "interpreter": {
    "hash": "b690e6882326b5178da96a43489ad4a3a410df96195acf222b6fc0fcea8e80e0"
   }
  }
 },
 "nbformat": 4,
 "nbformat_minor": 2
}
