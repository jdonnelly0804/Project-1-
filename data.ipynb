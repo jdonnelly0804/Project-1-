{
 "cells": [
  {
   "cell_type": "code",
   "execution_count": null,
   "metadata": {},
   "outputs": [],
   "source": [
    "import requests"
   ]
  }
 ],
 "metadata": {
  "kernelspec": {
   "display_name": "Python 3.7.13 ('dev')",
   "language": "python",
   "name": "python3"
  },
  "language_info": {
   "name": "python",
   "version": "3.7.13"
  },
  "orig_nbformat": 4,
  "vscode": {
   "interpreter": {
    "hash": "b690e6882326b5178da96a43489ad4a3a410df96195acf222b6fc0fcea8e80e0"
   }
  }
 },
 "nbformat": 4,
 "nbformat_minor": 2
}
